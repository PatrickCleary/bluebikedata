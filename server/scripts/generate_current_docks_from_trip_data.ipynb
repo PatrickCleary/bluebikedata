{
 "cells": [
  {
   "cell_type": "code",
   "execution_count": 1,
   "metadata": {},
   "outputs": [],
   "source": [
    "import pandas as pd"
   ]
  },
  {
   "cell_type": "code",
   "execution_count": 4,
   "metadata": {},
   "outputs": [],
   "source": [
    "df = pd.read_csv('../data/BBData/202506-bluebikes-tripdata.csv')"
   ]
  },
  {
   "cell_type": "code",
   "execution_count": 11,
   "metadata": {},
   "outputs": [],
   "source": [
    "import pandas as pd\n",
    "\n",
    "def extract_unique_stations(input_file, output_file):\n",
    "    \"\"\"\n",
    "    Extract unique start stations from bike share CSV data.\n",
    "    \n",
    "    Parameters:\n",
    "    input_file (str): Path to input CSV file\n",
    "    output_file (str): Path to output CSV file\n",
    "    \"\"\"\n",
    "    \n",
    "    # Read the input CSV\n",
    "    df = pd.read_csv(input_file)\n",
    "    \n",
    "    # Count occurrences of each start station\n",
    "    station_counts = df.groupby(['start_station_id', 'start_station_name', 'start_lat', 'start_lng']).size().reset_index(name='Count')\n",
    "    \n",
    "    # Remove rows where station_id or station_name is null/empty\n",
    "    station_counts = station_counts.dropna(subset=['start_station_id', 'start_station_name'])\n",
    "    \n",
    "    # Rename columns to match desired output format\n",
    "    unique_stations = station_counts.rename(columns={\n",
    "        'start_station_id': 'Number',\n",
    "        'start_station_name': 'Name', \n",
    "        'start_lat': 'Latitude',\n",
    "        'start_lng': 'Longitude'\n",
    "    })\n",
    "    \n",
    "    # Reorder columns\n",
    "    unique_stations = unique_stations[['Number', 'Name', 'Latitude', 'Longitude', 'Count']]\n",
    "    \n",
    "    # Remove duplicates by Number, keeping the row with highest Count\n",
    "    unique_stations = unique_stations.sort_values(['Number', 'Count'], ascending=[True, False])\n",
    "    unique_stations = unique_stations.drop_duplicates(subset=['Number'], keep='first')\n",
    "    \n",
    "    # Sort by station ID for consistent output\n",
    "    unique_stations = unique_stations.sort_values('Number')\n",
    "    \n",
    "    # Reset index\n",
    "    unique_stations = unique_stations.reset_index(drop=True)\n",
    "    \n",
    "    # Save to output file\n",
    "    unique_stations.to_csv(output_file, index=False)\n",
    "    \n",
    "    print(f\"Extracted {len(unique_stations)} unique stations to {output_file}\")\n",
    "    \n",
    "    return unique_stations"
   ]
  },
  {
   "cell_type": "code",
   "execution_count": 12,
   "metadata": {},
   "outputs": [
    {
     "name": "stdout",
     "output_type": "stream",
     "text": [
      "Extracted 554 unique stations to ../data/BBData/current_stations.csv\n",
      "\n",
      "First 5 unique stations:\n",
      "   Number                                         Name   Latitude  Longitude  \\\n",
      "0  A32000                                     Fan Pier  42.353391 -71.044571   \n",
      "1  A32001  Union Square - Brighton Ave at Cambridge St  42.353334 -71.137313   \n",
      "2  A32002              Commonwealth Ave at Agganis Way  42.351692 -71.119035   \n",
      "3  A32003                B.U. Central - 725 Comm. Ave.  42.350406 -71.108279   \n",
      "4  A32004                    Longwood Ave at Binney St  42.338629 -71.106500   \n",
      "\n",
      "   Count  \n",
      "0    972  \n",
      "1   1486  \n",
      "2   2647  \n",
      "3   1249  \n",
      "4   2451  \n"
     ]
    }
   ],
   "source": [
    "\n",
    "# Replace with your actual file paths\n",
    "input_file = \"../data/BBData/202506-bluebikes-tripdata.csv\"  # Your input CSV file\n",
    "output_file = \"../data/current_stations.csv\"  # Desired output file\n",
    "\n",
    "# Extract unique stations\n",
    "stations_df = extract_unique_stations(input_file, output_file)\n",
    "\n",
    "# Display first few rows\n",
    "print(\"\\nFirst 5 unique stations:\")\n",
    "print(stations_df.head())"
   ]
  },
  {
   "cell_type": "code",
   "execution_count": null,
   "metadata": {},
   "outputs": [],
   "source": []
  }
 ],
 "metadata": {
  "kernelspec": {
   "display_name": "3.12.6",
   "language": "python",
   "name": "python3"
  },
  "language_info": {
   "codemirror_mode": {
    "name": "ipython",
    "version": 3
   },
   "file_extension": ".py",
   "mimetype": "text/x-python",
   "name": "python",
   "nbconvert_exporter": "python",
   "pygments_lexer": "ipython3",
   "version": "3.12.6"
  }
 },
 "nbformat": 4,
 "nbformat_minor": 2
}
